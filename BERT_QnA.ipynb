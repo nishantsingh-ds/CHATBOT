{
 "cells": [
  {
   "cell_type": "markdown",
   "id": "282cd380",
   "metadata": {},
   "source": [
    "### Title: **Interactive Question Answering System Using BERT**\n",
    "\n",
    "### Description:\n",
    "This project implements an interactive Question Answering (QA) system utilizing the **BERT (Bidirectional Encoder Representations from Transformers)** model, a state-of-the-art pre-trained transformer model for natural language understanding. By leveraging the power of **Hugging Face's Transformers library**, the system is capable of processing a text passage and answering user queries based on the provided information.\n",
    "\n",
    "**Key Features:**\n",
    "- **BERT for QA**: The system uses the fine-tuned BERT model (`bert-large-uncased-whole-word-masking-finetuned-squad`) that is pretrained on the SQuAD (Stanford Question Answering Dataset) to answer questions based on a given context.\n",
    "- **Interactive Loop**: Users can enter any text and repeatedly ask questions related to that text. The system answers the questions using the BERT model and allows users to continue querying or exit when finished.\n",
    "- **Dynamic Input and Output**: The system handles dynamic user input, providing real-time answers and allowing follow-up questions in a conversational format.\n",
    "\n",
    "This project demonstrates how transformer-based models, particularly BERT, can be applied in an interactive and engaging manner for real-world question answering applications."
   ]
  },
  {
   "cell_type": "markdown",
   "id": "2901f6f4",
   "metadata": {},
   "source": [
    "### Installing the `transformers` Library\n",
    "\n",
    "This part of the project involves installing the `transformers` library, which is developed by Hugging Face. This library provides pre-trained models for various natural language processing tasks, including BERT, GPT, and others. By using `transformers`, we can leverage these advanced models to perform tasks like text classification, named entity recognition, and more. The library makes it easy to load and fine-tune these models, which is crucial for implementing BERT-based models in our project."
   ]
  },
  {
   "cell_type": "code",
   "execution_count": 1,
   "id": "6d8b28e7",
   "metadata": {
    "scrolled": true
   },
   "outputs": [
    {
     "name": "stdout",
     "output_type": "stream",
     "text": [
      "Defaulting to user installation because normal site-packages is not writeable\n",
      "Requirement already satisfied: transformers in c:\\users\\nisha\\appdata\\roaming\\python\\python39\\site-packages (4.46.2)\n",
      "Requirement already satisfied: filelock in c:\\programdata\\anaconda3\\lib\\site-packages (from transformers) (3.6.0)\n",
      "Requirement already satisfied: huggingface-hub<1.0,>=0.23.2 in c:\\users\\nisha\\appdata\\roaming\\python\\python39\\site-packages (from transformers) (0.26.2)\n",
      "Requirement already satisfied: numpy>=1.17 in c:\\users\\nisha\\appdata\\roaming\\python\\python39\\site-packages (from transformers) (1.26.0)\n",
      "Requirement already satisfied: packaging>=20.0 in c:\\programdata\\anaconda3\\lib\\site-packages (from transformers) (21.3)\n",
      "Requirement already satisfied: pyyaml>=5.1 in c:\\programdata\\anaconda3\\lib\\site-packages (from transformers) (6.0)\n",
      "Requirement already satisfied: regex!=2019.12.17 in c:\\programdata\\anaconda3\\lib\\site-packages (from transformers) (2022.3.15)\n",
      "Requirement already satisfied: requests in c:\\users\\nisha\\appdata\\roaming\\python\\python39\\site-packages (from transformers) (2.32.3)\n",
      "Requirement already satisfied: safetensors>=0.4.1 in c:\\users\\nisha\\appdata\\roaming\\python\\python39\\site-packages (from transformers) (0.4.5)\n",
      "Requirement already satisfied: tokenizers<0.21,>=0.20 in c:\\users\\nisha\\appdata\\roaming\\python\\python39\\site-packages (from transformers) (0.20.3)\n",
      "Requirement already satisfied: tqdm>=4.27 in c:\\users\\nisha\\appdata\\roaming\\python\\python39\\site-packages (from transformers) (4.67.0)\n",
      "Requirement already satisfied: fsspec>=2023.5.0 in c:\\users\\nisha\\appdata\\roaming\\python\\python39\\site-packages (from huggingface-hub<1.0,>=0.23.2->transformers) (2024.9.0)\n",
      "Requirement already satisfied: typing-extensions>=3.7.4.3 in c:\\users\\nisha\\appdata\\roaming\\python\\python39\\site-packages (from huggingface-hub<1.0,>=0.23.2->transformers) (4.10.0)\n",
      "Requirement already satisfied: pyparsing!=3.0.5,>=2.0.2 in c:\\programdata\\anaconda3\\lib\\site-packages (from packaging>=20.0->transformers) (3.0.4)\n",
      "Requirement already satisfied: colorama in c:\\programdata\\anaconda3\\lib\\site-packages (from tqdm>=4.27->transformers) (0.4.4)\n",
      "Requirement already satisfied: charset-normalizer<4,>=2 in c:\\programdata\\anaconda3\\lib\\site-packages (from requests->transformers) (2.0.4)\n",
      "Requirement already satisfied: idna<4,>=2.5 in c:\\programdata\\anaconda3\\lib\\site-packages (from requests->transformers) (3.3)\n",
      "Requirement already satisfied: urllib3<3,>=1.21.1 in c:\\programdata\\anaconda3\\lib\\site-packages (from requests->transformers) (1.26.9)\n",
      "Requirement already satisfied: certifi>=2017.4.17 in c:\\programdata\\anaconda3\\lib\\site-packages (from requests->transformers) (2021.10.8)\n"
     ]
    }
   ],
   "source": [
    "!pip install transformers"
   ]
  },
  {
   "cell_type": "markdown",
   "id": "90c730cd",
   "metadata": {},
   "source": [
    "### Importing Required Libraries for Question Answering with BERT\n",
    "\n",
    "In this part of the project, we import several essential libraries and modules to perform the task of question answering using BERT:\n",
    "\n",
    "- **pandas**: A powerful library for data manipulation and analysis. It helps in loading, cleaning, and managing the data (like question-context pairs) in a structured format (e.g., DataFrame).\n",
    "  \n",
    "- **numpy**: A library for numerical computing, useful for handling arrays and mathematical operations, especially when working with the input and output data of the model.\n",
    "\n",
    "- **seaborn**: A Python data visualization library based on matplotlib, used for generating informative and attractive visualizations, which can help in analyzing the model’s performance.\n",
    "\n",
    "- **torch**: The PyTorch library, which is the deep learning framework that BERT is built on. It enables tensor computations and provides a wide range of tools to implement and train machine learning models.\n",
    "\n",
    "- **matplotlib.pyplot**: A plotting library used to create static, animated, and interactive visualizations. It is often used for visualizing the model's results, like showing training curves or output statistics.\n",
    "\n",
    "- **BertForQuestionAnswering**: A specific class from the Hugging Face Transformers library that provides the pre-trained BERT model fine-tuned for the question answering task. This model takes a context and a question as inputs and predicts an answer from the context.\n",
    "\n",
    "- **BertTokenizer**: This tokenizer from the Hugging Face library is used to convert the input text (question and context) into tokens that the BERT model can process. It ensures that the text is tokenized, padded, and truncated appropriately to fit the input size required by BERT.\n",
    "\n",
    "These libraries collectively provide the necessary tools to build and run a BERT-based question answering model, leveraging the power of pre-trained models for extracting relevant answers from text data."
   ]
  },
  {
   "cell_type": "code",
   "execution_count": 2,
   "id": "c4fd2a77",
   "metadata": {},
   "outputs": [
    {
     "name": "stderr",
     "output_type": "stream",
     "text": [
      "C:\\Users\\nisha\\AppData\\Roaming\\Python\\Python39\\site-packages\\scipy\\__init__.py:146: UserWarning: A NumPy version >=1.16.5 and <1.23.0 is required for this version of SciPy (detected version 1.26.0\n",
      "  warnings.warn(f\"A NumPy version >={np_minversion} and <{np_maxversion}\"\n"
     ]
    }
   ],
   "source": [
    "import pandas as pd\n",
    "import numpy as np\n",
    "import seaborn as sns\n",
    "import torch\n",
    "import matplotlib.pyplot as plt\n",
    "from transformers import BertForQuestionAnswering, BertTokenizer\n"
   ]
  },
  {
   "cell_type": "markdown",
   "id": "2f8303d1",
   "metadata": {},
   "source": [
    "### Loading the CoQA Dataset\n",
    "\n",
    "In this part of the project, we load the **CoQA** (Conversational Question Answering) dataset, which is a popular dataset for training and evaluating question-answering models in a conversational context. Here's a breakdown of the code:\n",
    "\n",
    "- **`pd.read_json()`**: This function from the pandas library is used to load the JSON dataset from the provided URL. The CoQA dataset is in JSON format and contains training examples, each consisting of a context (paragraph of text), a series of questions, and the corresponding answers.\n",
    "\n",
    "- **`coqa.head()`**: After loading the dataset, we use the `.head()` function to preview the first few rows of the data. This helps us verify the structure of the dataset and understand how the data is organized before processing it for model training.\n",
    "\n",
    "By using this dataset, the model will learn to provide accurate answers based on the context and conversational history. The dataset is specifically designed for conversational AI tasks, making it a great choice for training models like BERT for question answering."
   ]
  },
  {
   "cell_type": "code",
   "execution_count": 3,
   "id": "a5d05a2d",
   "metadata": {
    "scrolled": true
   },
   "outputs": [
    {
     "data": {
      "text/html": [
       "<div>\n",
       "<style scoped>\n",
       "    .dataframe tbody tr th:only-of-type {\n",
       "        vertical-align: middle;\n",
       "    }\n",
       "\n",
       "    .dataframe tbody tr th {\n",
       "        vertical-align: top;\n",
       "    }\n",
       "\n",
       "    .dataframe thead th {\n",
       "        text-align: right;\n",
       "    }\n",
       "</style>\n",
       "<table border=\"1\" class=\"dataframe\">\n",
       "  <thead>\n",
       "    <tr style=\"text-align: right;\">\n",
       "      <th></th>\n",
       "      <th>version</th>\n",
       "      <th>data</th>\n",
       "    </tr>\n",
       "  </thead>\n",
       "  <tbody>\n",
       "    <tr>\n",
       "      <th>0</th>\n",
       "      <td>1</td>\n",
       "      <td>{'source': 'wikipedia', 'id': '3zotghdk5ibi9ce...</td>\n",
       "    </tr>\n",
       "    <tr>\n",
       "      <th>1</th>\n",
       "      <td>1</td>\n",
       "      <td>{'source': 'cnn', 'id': '3wj1oxy92agboo5nlq4r7...</td>\n",
       "    </tr>\n",
       "    <tr>\n",
       "      <th>2</th>\n",
       "      <td>1</td>\n",
       "      <td>{'source': 'gutenberg', 'id': '3bdcf01ogxu7zdn...</td>\n",
       "    </tr>\n",
       "    <tr>\n",
       "      <th>3</th>\n",
       "      <td>1</td>\n",
       "      <td>{'source': 'cnn', 'id': '3ewijtffvo7wwchw6rtya...</td>\n",
       "    </tr>\n",
       "    <tr>\n",
       "      <th>4</th>\n",
       "      <td>1</td>\n",
       "      <td>{'source': 'gutenberg', 'id': '3urfvvm165iantk...</td>\n",
       "    </tr>\n",
       "  </tbody>\n",
       "</table>\n",
       "</div>"
      ],
      "text/plain": [
       "   version                                               data\n",
       "0        1  {'source': 'wikipedia', 'id': '3zotghdk5ibi9ce...\n",
       "1        1  {'source': 'cnn', 'id': '3wj1oxy92agboo5nlq4r7...\n",
       "2        1  {'source': 'gutenberg', 'id': '3bdcf01ogxu7zdn...\n",
       "3        1  {'source': 'cnn', 'id': '3ewijtffvo7wwchw6rtya...\n",
       "4        1  {'source': 'gutenberg', 'id': '3urfvvm165iantk..."
      ]
     },
     "execution_count": 3,
     "metadata": {},
     "output_type": "execute_result"
    }
   ],
   "source": [
    "coqa = pd.read_json('http://downloads.cs.stanford.edu/nlp/data/coqa/coqa-train-v1.0.json')\n",
    "coqa.head()"
   ]
  },
  {
   "cell_type": "markdown",
   "id": "5a8db8ff",
   "metadata": {},
   "source": [
    "### Removing Unnecessary Columns\n",
    "\n",
    "In this step, we remove the **\"version\"** column from the CoQA dataset, as it is not relevant for the question-answering task. Here's the explanation:\n",
    "\n",
    "- **`del coqa[\"version\"]`**: This command deletes the \"version\" column from the `coqa` DataFrame. Sometimes, datasets come with extra metadata or columns that do not contribute to the task at hand. By removing such columns, we can simplify the dataset and focus on the relevant features, such as the context, question, and answer.\n",
    "\n",
    "This helps clean the dataset and makes it easier to work with when preparing it for training the model."
   ]
  },
  {
   "cell_type": "code",
   "execution_count": 4,
   "id": "6139c8ea",
   "metadata": {},
   "outputs": [],
   "source": [
    "del coqa[\"version\"]"
   ]
  },
  {
   "cell_type": "markdown",
   "id": "074a5854",
   "metadata": {},
   "source": [
    "### Data Processing and Reshaping\n",
    "\n",
    "This section of the code is used to reshape the CoQA dataset into a more usable format for training the BERT-based question-answering model.\n",
    "\n",
    "- **`cols = [\"text\",\"question\",\"answer\"]`**: We define the column names for our new DataFrame, where:\n",
    "  - \"text\" will contain the context or story from the CoQA dataset.\n",
    "  - \"question\" will contain the actual question for each context.\n",
    "  - \"answer\" will contain the corresponding answer for each question.\n",
    "\n",
    "- **Reshaping the dataset**: We iterate over the dataset and extract relevant information:\n",
    "  - **For each story** (`row[\"data\"][\"story\"]`), the code extracts all the questions and answers related to that story.\n",
    "  - **For each question** in the story, it stores the context (story), the question, and the corresponding answer in a temporary list (`temp_list`).\n",
    "  - This process is repeated for all the questions and answers associated with each story in the dataset.\n",
    "\n",
    "- **Creating the new DataFrame**: After extracting the relevant data, the `comp_list` holds a list of lists, where each sublist contains a story, a question, and an answer. This list is then converted into a DataFrame, `new_df`, which is easier to work with for model training.\n",
    "\n",
    "This step prepares the dataset for training by ensuring it has the proper structure for input into the BERT model for question-answering tasks."
   ]
  },
  {
   "cell_type": "code",
   "execution_count": 5,
   "id": "a454269e",
   "metadata": {},
   "outputs": [],
   "source": [
    "cols = [\"text\",\"question\",\"answer\"]\n",
    "\n",
    "# j = 1\n",
    "comp_list = []\n",
    "for index, row in coqa.iterrows():\n",
    "    for i in range(len(row[\"data\"][\"questions\"])):\n",
    "        temp_list = []\n",
    "#         temp_list.append(j)\n",
    "        temp_list.append(row[\"data\"][\"story\"])\n",
    "        temp_list.append(row[\"data\"][\"questions\"][i][\"input_text\"])\n",
    "        temp_list.append(row[\"data\"][\"answers\"][i][\"input_text\"])\n",
    "        comp_list.append(temp_list)\n",
    "#     j += 1\n",
    "new_df = pd.DataFrame(comp_list, columns=cols) "
   ]
  },
  {
   "cell_type": "markdown",
   "id": "b936db16",
   "metadata": {},
   "source": [
    "### Saving the Preprocessed Data\n",
    "\n",
    "In this step, the reshaped CoQA dataset, `new_df`, is saved as a CSV file:\n",
    "\n",
    "- **`new_df.to_csv(\"CoQA_data.csv\", index=False)`**: This line of code converts the `new_df` DataFrame into a CSV file named `CoQA_data.csv`. The `index=False` parameter ensures that the row indices are not included in the saved CSV file, resulting in a clean dataset that only contains the \"text\", \"question\", and \"answer\" columns.\n",
    "\n",
    "This CSV file can now be used as input for training and fine-tuning the BERT model on the question-answering task."
   ]
  },
  {
   "cell_type": "code",
   "execution_count": 6,
   "id": "fdc3a4f7",
   "metadata": {},
   "outputs": [],
   "source": [
    "new_df.to_csv(\"CoQA_data.csv\", index=False)"
   ]
  },
  {
   "cell_type": "markdown",
   "id": "b975264f",
   "metadata": {},
   "source": [
    "### Loading the Preprocessed Data\n",
    "\n",
    "Here, the CSV file `CoQA_data.csv` is loaded back into a DataFrame for further processing:\n",
    "\n",
    "- **`data = pd.read_csv(\"CoQA_data.csv\")`**: This line reads the CSV file and stores it into the `data` DataFrame. The file `CoQA_data.csv` contains the preprocessed CoQA dataset, which consists of the \"text\", \"question\", and \"answer\" columns.\n",
    "\n",
    "- **`data.head()`**: This command displays the first five rows of the DataFrame, allowing a quick preview of the dataset's structure and the values within it.\n",
    "\n",
    "This step ensures that the data is ready for input into the model for fine-tuning, as we can easily visualize and verify the contents."
   ]
  },
  {
   "cell_type": "code",
   "execution_count": 7,
   "id": "89e16848",
   "metadata": {},
   "outputs": [
    {
     "data": {
      "text/html": [
       "<div>\n",
       "<style scoped>\n",
       "    .dataframe tbody tr th:only-of-type {\n",
       "        vertical-align: middle;\n",
       "    }\n",
       "\n",
       "    .dataframe tbody tr th {\n",
       "        vertical-align: top;\n",
       "    }\n",
       "\n",
       "    .dataframe thead th {\n",
       "        text-align: right;\n",
       "    }\n",
       "</style>\n",
       "<table border=\"1\" class=\"dataframe\">\n",
       "  <thead>\n",
       "    <tr style=\"text-align: right;\">\n",
       "      <th></th>\n",
       "      <th>text</th>\n",
       "      <th>question</th>\n",
       "      <th>answer</th>\n",
       "    </tr>\n",
       "  </thead>\n",
       "  <tbody>\n",
       "    <tr>\n",
       "      <th>0</th>\n",
       "      <td>The Vatican Apostolic Library (), more commonl...</td>\n",
       "      <td>When was the Vat formally opened?</td>\n",
       "      <td>It was formally established in 1475</td>\n",
       "    </tr>\n",
       "    <tr>\n",
       "      <th>1</th>\n",
       "      <td>The Vatican Apostolic Library (), more commonl...</td>\n",
       "      <td>what is the library for?</td>\n",
       "      <td>research</td>\n",
       "    </tr>\n",
       "    <tr>\n",
       "      <th>2</th>\n",
       "      <td>The Vatican Apostolic Library (), more commonl...</td>\n",
       "      <td>for what subjects?</td>\n",
       "      <td>history, and law</td>\n",
       "    </tr>\n",
       "    <tr>\n",
       "      <th>3</th>\n",
       "      <td>The Vatican Apostolic Library (), more commonl...</td>\n",
       "      <td>and?</td>\n",
       "      <td>philosophy, science and theology</td>\n",
       "    </tr>\n",
       "    <tr>\n",
       "      <th>4</th>\n",
       "      <td>The Vatican Apostolic Library (), more commonl...</td>\n",
       "      <td>what was started in 2014?</td>\n",
       "      <td>a  project</td>\n",
       "    </tr>\n",
       "  </tbody>\n",
       "</table>\n",
       "</div>"
      ],
      "text/plain": [
       "                                                text  \\\n",
       "0  The Vatican Apostolic Library (), more commonl...   \n",
       "1  The Vatican Apostolic Library (), more commonl...   \n",
       "2  The Vatican Apostolic Library (), more commonl...   \n",
       "3  The Vatican Apostolic Library (), more commonl...   \n",
       "4  The Vatican Apostolic Library (), more commonl...   \n",
       "\n",
       "                            question                               answer  \n",
       "0  When was the Vat formally opened?  It was formally established in 1475  \n",
       "1           what is the library for?                             research  \n",
       "2                 for what subjects?                     history, and law  \n",
       "3                               and?     philosophy, science and theology  \n",
       "4          what was started in 2014?                           a  project  "
      ]
     },
     "execution_count": 7,
     "metadata": {},
     "output_type": "execute_result"
    }
   ],
   "source": [
    "data = pd.read_csv(\"CoQA_data.csv\")\n",
    "data.head()"
   ]
  },
  {
   "cell_type": "markdown",
   "id": "eee2dc84",
   "metadata": {},
   "source": [
    "### Checking the Number of Question-Answer Pairs\n",
    "\n",
    "- **`print(\"Number of question and answers: \", len(data))`**: This line of code calculates and prints the total number of question-answer pairs in the dataset. The length of the DataFrame `data` corresponds to the number of rows, which is equal to the number of question-answer pairs in the CoQA dataset after preprocessing.\n",
    "\n",
    "This helps us understand how much data is available for model training or testing."
   ]
  },
  {
   "cell_type": "code",
   "execution_count": 8,
   "id": "1eee94ff",
   "metadata": {},
   "outputs": [
    {
     "name": "stdout",
     "output_type": "stream",
     "text": [
      "Number of question and answers:  108647\n"
     ]
    }
   ],
   "source": [
    "print(\"Number of question and answers: \", len(data))"
   ]
  },
  {
   "cell_type": "markdown",
   "id": "a76574b4",
   "metadata": {},
   "source": [
    "### Loading the Pre-trained BERT Model and Tokenizer\n",
    "\n",
    "- **`model = BertForQuestionAnswering.from_pretrained('bert-large-uncased-whole-word-masking-finetuned-squad')`**: \n",
    "  - This line loads the pre-trained BERT model fine-tuned on the SQuAD dataset for question answering. The model is `bert-large-uncased-whole-word-masking-finetuned-squad`, a large version of BERT trained for answering questions based on a given context. This model can process text input to extract an answer based on the context and the question provided.\n",
    "\n",
    "- **`tokenizer = BertTokenizer.from_pretrained('bert-large-uncased-whole-word-masking-finetuned-squad')`**: \n",
    "  - This line loads the tokenizer associated with the BERT model. The tokenizer is responsible for converting input text into a format that BERT can understand (i.e., tokenized input), ensuring that the text is tokenized in a manner consistent with the model's pre-training. It also ensures that the tokens are aligned with the fine-tuning performed on the SQuAD dataset.\n",
    "\n",
    "These components (model and tokenizer) are essential for performing question answering tasks using BERT."
   ]
  },
  {
   "cell_type": "code",
   "execution_count": 9,
   "id": "a2192d68",
   "metadata": {},
   "outputs": [
    {
     "name": "stderr",
     "output_type": "stream",
     "text": [
      "Some weights of the model checkpoint at bert-large-uncased-whole-word-masking-finetuned-squad were not used when initializing BertForQuestionAnswering: ['bert.pooler.dense.bias', 'bert.pooler.dense.weight']\n",
      "- This IS expected if you are initializing BertForQuestionAnswering from the checkpoint of a model trained on another task or with another architecture (e.g. initializing a BertForSequenceClassification model from a BertForPreTraining model).\n",
      "- This IS NOT expected if you are initializing BertForQuestionAnswering from the checkpoint of a model that you expect to be exactly identical (initializing a BertForSequenceClassification model from a BertForSequenceClassification model).\n"
     ]
    }
   ],
   "source": [
    "model = BertForQuestionAnswering.from_pretrained('bert-large-uncased-whole-word-masking-finetuned-squad')\n",
    "tokenizer = BertTokenizer.from_pretrained('bert-large-uncased-whole-word-masking-finetuned-squad')"
   ]
  },
  {
   "cell_type": "markdown",
   "id": "d8bc0b0d",
   "metadata": {},
   "source": [
    "### Selecting a Random Question and Context\n",
    "\n",
    "- **`random_num = np.random.randint(0, len(data))`**: \n",
    "  - This line generates a random integer, `random_num`, between `0` and the length of the dataset (`len(data)`). This random number will be used to select a random sample from the data.\n",
    "\n",
    "- **`question = data[\"question\"][random_num]`**:\n",
    "  - Using the randomly generated index (`random_num`), this line selects a random question from the dataset's `question` column. The `question` column contains the questions associated with each context in the dataset.\n",
    "\n",
    "- **`text = data[\"text\"][random_num]`**:\n",
    "  - Similarly, this line selects the corresponding context (the \"story\" or \"text\") for the randomly selected question. The `text` column contains the context that will be used by the BERT model to find the answer to the question.\n",
    "\n",
    "This selection of a random question and context is used as input for the BERT model to perform question answering."
   ]
  },
  {
   "cell_type": "code",
   "execution_count": 10,
   "id": "d9aff953",
   "metadata": {},
   "outputs": [],
   "source": [
    "random_num = np.random.randint(0,len(data))\n",
    "\n",
    "question = data[\"question\"][random_num]\n",
    "text = data[\"text\"][random_num]"
   ]
  },
  {
   "cell_type": "markdown",
   "id": "610c6d76",
   "metadata": {},
   "source": [
    "### Printing the Selected Question and Context\n",
    "\n",
    "- **`print(question, \"\\n\", text)`**: \n",
    "  - This line prints out the randomly selected question followed by its associated context (story or text). The `\"\\n\"` is used to add a line break between the question and the context, making the output more readable.\n",
    "\n",
    "By executing this, we get a clearer view of both the question and the context that the BERT model will use for answering the question. Here's an example of what the printed output might look like:\n",
    "\n",
    "```\n",
    "What is the capital of France? \n",
    "The capital of France is Paris, which is located in Europe.\n",
    "``` \n",
    "\n",
    "This output will help ensure that the question-answering process is working with appropriate input."
   ]
  },
  {
   "cell_type": "code",
   "execution_count": 11,
   "id": "d571360a",
   "metadata": {
    "scrolled": true
   },
   "outputs": [
    {
     "name": "stdout",
     "output_type": "stream",
     "text": [
      "What did his mother do? \n",
      " Sam hated doing chores. And he had many chores. For example,on Mondays, Wednesdays and Fridays he took out the rubbish. And on weekends he always washed his father's car. He also cleaned his own room once a week. What a chore that was! Sometimes he even had to look after his little sister and brother. Sam had a foreign friend at school. His name was Kumar. Doing chores in Kumar's family was very different. In the house only the girls did chores. His sisters made all the beds and cleaned all the rooms too, even his bedroom.His mother always cooked the meals, and his sisters helped her to go shopping, and prepare the food. They worked hard at home,doing all the chores with their mother. So when Kumar talked to his friend Sam about chores, he felt very lucky. One day, Sam had an idea. He asked Kumar,\"Could I borrow your sisters? \" He wanted them to help him clean his room,but they said \" no \" Instead, they asked Sam to teach their brother how to do chores, so he could make his own bed. Sam and Kumar are very good at science. They are going to be scientists after university. They want to make a robot to do the chores. Then everyone-mothers and fathers, sons and daughters-will be happy!\n"
     ]
    }
   ],
   "source": [
    "print(question, \"\\n\", text)"
   ]
  },
  {
   "cell_type": "markdown",
   "id": "d159fa20",
   "metadata": {},
   "source": [
    "### Tokenizing the Question and Context\n",
    "\n",
    "- **`input_ids = tokenizer.encode(question, text)`**: \n",
    "  - This line encodes the `question` and `text` (context) into input tokens using the BERT tokenizer. The tokenizer transforms the question and its context into a sequence of integer token IDs that represent words or subwords, based on the model's vocabulary.\n",
    "\n",
    "- **`print(\"The input has a total of {} tokens.\".format(len(input_ids)))`**: \n",
    "  - This line calculates the length of the tokenized input (i.e., the total number of tokens) and prints it. This is important because BERT has a fixed maximum sequence length, typically 512 tokens. If the length exceeds this limit, the input must be truncated.\n",
    "\n",
    "By running this code, you'll know the number of tokens that BERT will process. If the total token count exceeds the model's maximum limit, you'll need to truncate or modify the input to fit within that constraint. For example, if the model’s limit is 512 tokens and the sum of the tokens from the question and text exceeds that, truncation would occur."
   ]
  },
  {
   "cell_type": "code",
   "execution_count": 12,
   "id": "8f8cf9cf",
   "metadata": {},
   "outputs": [
    {
     "name": "stdout",
     "output_type": "stream",
     "text": [
      "The input has a total of 281 tokens.\n"
     ]
    }
   ],
   "source": [
    "input_ids = tokenizer.encode(question, text)\n",
    "print(\"The input has a total of {} tokens.\".format(len(input_ids)))"
   ]
  },
  {
   "cell_type": "markdown",
   "id": "e399f19e",
   "metadata": {},
   "source": [
    "### Converting Token IDs to Tokens\n",
    "\n",
    "- **`tokens = tokenizer.convert_ids_to_tokens(input_ids)`**: \n",
    "  - This line converts the list of token IDs back into human-readable tokens (words or subwords). The `input_ids` list contains the token IDs representing words or parts of words in the text, and the `convert_ids_to_tokens()` method maps these token IDs back to their corresponding text representations (tokens).\n",
    "\n",
    "- **`for token, id in zip(tokens, input_ids):`**: \n",
    "  - This loop iterates over the tokens and their corresponding token IDs. The `zip()` function pairs each token with its corresponding token ID from the input list.\n",
    "\n",
    "- **`print('{:8}{:8,}'.format(token, id))`**: \n",
    "  - This line prints each token alongside its token ID. The `{:8}` formats the output so that the token and its ID are aligned in a neat tabular format, making it easier to read.\n",
    "\n",
    "#### Example Output:\n",
    "\n",
    "You might see an output like this:\n",
    "\n",
    "```\n",
    "[CLS]    101,000\n",
    "hello    7592,000\n",
    "world    2088,000\n",
    "[SEP]    102,000\n",
    "```\n",
    "\n",
    "Here, each token corresponds to a part of the question and context, and the number beside it represents the token ID in BERT's vocabulary. Special tokens like `[CLS]` (start of sequence) and `[SEP]` (separator between question and context) are included as part of BERT's input format."
   ]
  },
  {
   "cell_type": "code",
   "execution_count": 13,
   "id": "c735b351",
   "metadata": {},
   "outputs": [
    {
     "name": "stdout",
     "output_type": "stream",
     "text": [
      "[CLS]        101\n",
      "what       2,054\n",
      "did        2,106\n",
      "his        2,010\n",
      "mother     2,388\n",
      "do         2,079\n",
      "?          1,029\n",
      "[SEP]        102\n",
      "sam        3,520\n",
      "hated      6,283\n",
      "doing      2,725\n",
      "chores    27,091\n",
      ".          1,012\n",
      "and        1,998\n",
      "he         2,002\n",
      "had        2,018\n",
      "many       2,116\n",
      "chores    27,091\n",
      ".          1,012\n",
      "for        2,005\n",
      "example    2,742\n",
      ",          1,010\n",
      "on         2,006\n",
      "mondays   28,401\n",
      ",          1,010\n",
      "wednesday   9,317\n",
      "##s        2,015\n",
      "and        1,998\n",
      "fridays   26,587\n",
      "he         2,002\n",
      "took       2,165\n",
      "out        2,041\n",
      "the        1,996\n",
      "rubbish   29,132\n",
      ".          1,012\n",
      "and        1,998\n",
      "on         2,006\n",
      "weekends  13,499\n",
      "he         2,002\n",
      "always     2,467\n",
      "washed     8,871\n",
      "his        2,010\n",
      "father     2,269\n",
      "'          1,005\n",
      "s          1,055\n",
      "car        2,482\n",
      ".          1,012\n",
      "he         2,002\n",
      "also       2,036\n",
      "cleaned   12,176\n",
      "his        2,010\n",
      "own        2,219\n",
      "room       2,282\n",
      "once       2,320\n",
      "a          1,037\n",
      "week       2,733\n",
      ".          1,012\n",
      "what       2,054\n",
      "a          1,037\n",
      "cho       16,480\n",
      "##re       2,890\n",
      "that       2,008\n",
      "was        2,001\n",
      "!            999\n",
      "sometimes   2,823\n",
      "he         2,002\n",
      "even       2,130\n",
      "had        2,018\n",
      "to         2,000\n",
      "look       2,298\n",
      "after      2,044\n",
      "his        2,010\n",
      "little     2,210\n",
      "sister     2,905\n",
      "and        1,998\n",
      "brother    2,567\n",
      ".          1,012\n",
      "sam        3,520\n",
      "had        2,018\n",
      "a          1,037\n",
      "foreign    3,097\n",
      "friend     2,767\n",
      "at         2,012\n",
      "school     2,082\n",
      ".          1,012\n",
      "his        2,010\n",
      "name       2,171\n",
      "was        2,001\n",
      "kumar      9,600\n",
      ".          1,012\n",
      "doing      2,725\n",
      "chores    27,091\n",
      "in         1,999\n",
      "kumar      9,600\n",
      "'          1,005\n",
      "s          1,055\n",
      "family     2,155\n",
      "was        2,001\n",
      "very       2,200\n",
      "different   2,367\n",
      ".          1,012\n",
      "in         1,999\n",
      "the        1,996\n",
      "house      2,160\n",
      "only       2,069\n",
      "the        1,996\n",
      "girls      3,057\n",
      "did        2,106\n",
      "chores    27,091\n",
      ".          1,012\n",
      "his        2,010\n",
      "sisters    5,208\n",
      "made       2,081\n",
      "all        2,035\n",
      "the        1,996\n",
      "beds       9,705\n",
      "and        1,998\n",
      "cleaned   12,176\n",
      "all        2,035\n",
      "the        1,996\n",
      "rooms      4,734\n",
      "too        2,205\n",
      ",          1,010\n",
      "even       2,130\n",
      "his        2,010\n",
      "bedroom    5,010\n",
      ".          1,012\n",
      "his        2,010\n",
      "mother     2,388\n",
      "always     2,467\n",
      "cooked    12,984\n",
      "the        1,996\n",
      "meals     12,278\n",
      ",          1,010\n",
      "and        1,998\n",
      "his        2,010\n",
      "sisters    5,208\n",
      "helped     3,271\n",
      "her        2,014\n",
      "to         2,000\n",
      "go         2,175\n",
      "shopping   6,023\n",
      ",          1,010\n",
      "and        1,998\n",
      "prepare    7,374\n",
      "the        1,996\n",
      "food       2,833\n",
      ".          1,012\n",
      "they       2,027\n",
      "worked     2,499\n",
      "hard       2,524\n",
      "at         2,012\n",
      "home       2,188\n",
      ",          1,010\n",
      "doing      2,725\n",
      "all        2,035\n",
      "the        1,996\n",
      "chores    27,091\n",
      "with       2,007\n",
      "their      2,037\n",
      "mother     2,388\n",
      ".          1,012\n",
      "so         2,061\n",
      "when       2,043\n",
      "kumar      9,600\n",
      "talked     5,720\n",
      "to         2,000\n",
      "his        2,010\n",
      "friend     2,767\n",
      "sam        3,520\n",
      "about      2,055\n",
      "chores    27,091\n",
      ",          1,010\n",
      "he         2,002\n",
      "felt       2,371\n",
      "very       2,200\n",
      "lucky      5,341\n",
      ".          1,012\n",
      "one        2,028\n",
      "day        2,154\n",
      ",          1,010\n",
      "sam        3,520\n",
      "had        2,018\n",
      "an         2,019\n",
      "idea       2,801\n",
      ".          1,012\n",
      "he         2,002\n",
      "asked      2,356\n",
      "kumar      9,600\n",
      ",          1,010\n",
      "\"          1,000\n",
      "could      2,071\n",
      "i          1,045\n",
      "borrow    17,781\n",
      "your       2,115\n",
      "sisters    5,208\n",
      "?          1,029\n",
      "\"          1,000\n",
      "he         2,002\n",
      "wanted     2,359\n",
      "them       2,068\n",
      "to         2,000\n",
      "help       2,393\n",
      "him        2,032\n",
      "clean      4,550\n",
      "his        2,010\n",
      "room       2,282\n",
      ",          1,010\n",
      "but        2,021\n",
      "they       2,027\n",
      "said       2,056\n",
      "\"          1,000\n",
      "no         2,053\n",
      "\"          1,000\n",
      "instead    2,612\n",
      ",          1,010\n",
      "they       2,027\n",
      "asked      2,356\n",
      "sam        3,520\n",
      "to         2,000\n",
      "teach      6,570\n",
      "their      2,037\n",
      "brother    2,567\n",
      "how        2,129\n",
      "to         2,000\n",
      "do         2,079\n",
      "chores    27,091\n",
      ",          1,010\n",
      "so         2,061\n",
      "he         2,002\n",
      "could      2,071\n",
      "make       2,191\n",
      "his        2,010\n",
      "own        2,219\n",
      "bed        2,793\n",
      ".          1,012\n",
      "sam        3,520\n",
      "and        1,998\n",
      "kumar      9,600\n",
      "are        2,024\n",
      "very       2,200\n",
      "good       2,204\n",
      "at         2,012\n",
      "science    2,671\n",
      ".          1,012\n",
      "they       2,027\n",
      "are        2,024\n",
      "going      2,183\n",
      "to         2,000\n",
      "be         2,022\n",
      "scientists   6,529\n",
      "after      2,044\n",
      "university   2,118\n",
      ".          1,012\n",
      "they       2,027\n",
      "want       2,215\n",
      "to         2,000\n",
      "make       2,191\n",
      "a          1,037\n",
      "robot      8,957\n",
      "to         2,000\n",
      "do         2,079\n",
      "the        1,996\n",
      "chores    27,091\n",
      ".          1,012\n",
      "then       2,059\n",
      "everyone   3,071\n",
      "-          1,011\n",
      "mothers   10,756\n",
      "and        1,998\n",
      "fathers   11,397\n",
      ",          1,010\n",
      "sons       4,124\n",
      "and        1,998\n",
      "daughters   5,727\n",
      "-          1,011\n",
      "will       2,097\n",
      "be         2,022\n",
      "happy      3,407\n",
      "!            999\n",
      "[SEP]        102\n"
     ]
    }
   ],
   "source": [
    "tokens = tokenizer.convert_ids_to_tokens(input_ids)\n",
    "\n",
    "for token, id in zip(tokens, input_ids):\n",
    "    print('{:8}{:8,}'.format(token,id))"
   ]
  },
  {
   "cell_type": "markdown",
   "id": "2e83f9ca",
   "metadata": {},
   "source": [
    "### Segmenting the Input into Two Segments (Question and Text)\n",
    "\n",
    "In this part of the code, the input tokens are divided into two segments: **Segment A** (the question) and **Segment B** (the context or text). This segmentation is crucial for BERT's question-answering task, as it helps the model differentiate between the question and the context.\n",
    "\n",
    "1. **Identifying the `[SEP]` Token**:  \n",
    "   The first occurrence of the `[SEP]` token (which separates the question and context in BERT's input format) is found using the `index()` method. The position of this token helps us determine where the question ends and where the text begins.\n",
    "\n",
    "2. **Determining the Length of Each Segment**:\n",
    "   - **Segment A** represents the question, and its length is calculated as the position of the `[SEP]` token plus one.\n",
    "   - **Segment B** represents the context or text, and its length is calculated as the total number of tokens minus the length of Segment A.\n",
    "\n",
    "3. **Creating Segment IDs**:\n",
    "   Segment IDs are created to mark which tokens belong to the question (Segment A) and which belong to the text (Segment B). The segment IDs are a list of `0`s for the question and `1`s for the text. This helps the model differentiate between the two parts during processing.\n",
    "\n",
    "Finally, an assertion is performed to ensure that the lengths of `segment_ids` and `input_ids` are the same, ensuring the segmentation is done correctly.\n",
    "\n",
    "This process sets up the input in a way that is compatible with BERT's architecture, where each token is associated with either the question or the text."
   ]
  },
  {
   "cell_type": "code",
   "execution_count": 14,
   "id": "c28da35c",
   "metadata": {},
   "outputs": [
    {
     "name": "stdout",
     "output_type": "stream",
     "text": [
      "7\n",
      "8\n",
      "273\n",
      "[0, 0, 0, 0, 0, 0, 0, 0, 1, 1, 1, 1, 1, 1, 1, 1, 1, 1, 1, 1, 1, 1, 1, 1, 1, 1, 1, 1, 1, 1, 1, 1, 1, 1, 1, 1, 1, 1, 1, 1, 1, 1, 1, 1, 1, 1, 1, 1, 1, 1, 1, 1, 1, 1, 1, 1, 1, 1, 1, 1, 1, 1, 1, 1, 1, 1, 1, 1, 1, 1, 1, 1, 1, 1, 1, 1, 1, 1, 1, 1, 1, 1, 1, 1, 1, 1, 1, 1, 1, 1, 1, 1, 1, 1, 1, 1, 1, 1, 1, 1, 1, 1, 1, 1, 1, 1, 1, 1, 1, 1, 1, 1, 1, 1, 1, 1, 1, 1, 1, 1, 1, 1, 1, 1, 1, 1, 1, 1, 1, 1, 1, 1, 1, 1, 1, 1, 1, 1, 1, 1, 1, 1, 1, 1, 1, 1, 1, 1, 1, 1, 1, 1, 1, 1, 1, 1, 1, 1, 1, 1, 1, 1, 1, 1, 1, 1, 1, 1, 1, 1, 1, 1, 1, 1, 1, 1, 1, 1, 1, 1, 1, 1, 1, 1, 1, 1, 1, 1, 1, 1, 1, 1, 1, 1, 1, 1, 1, 1, 1, 1, 1, 1, 1, 1, 1, 1, 1, 1, 1, 1, 1, 1, 1, 1, 1, 1, 1, 1, 1, 1, 1, 1, 1, 1, 1, 1, 1, 1, 1, 1, 1, 1, 1, 1, 1, 1, 1, 1, 1, 1, 1, 1, 1, 1, 1, 1, 1, 1, 1, 1, 1, 1, 1, 1, 1, 1, 1, 1, 1, 1, 1, 1, 1, 1, 1, 1, 1, 1, 1, 1, 1, 1, 1, 1, 1, 1, 1, 1, 1, 1, 1]\n"
     ]
    }
   ],
   "source": [
    "#first occurence of [SEP] token\n",
    "sep_idx = input_ids.index(tokenizer.sep_token_id)\n",
    "print(sep_idx)\n",
    "\n",
    "#number of tokens in segment A - question\n",
    "num_seg_a = sep_idx+1\n",
    "print(num_seg_a)\n",
    "\n",
    "#number of tokens in segment B - text\n",
    "num_seg_b = len(input_ids) - num_seg_a\n",
    "print(num_seg_b)\n",
    "\n",
    "segment_ids = [0]*num_seg_a + [1]*num_seg_b\n",
    "print(segment_ids)\n",
    "\n",
    "assert len(segment_ids) == len(input_ids)"
   ]
  },
  {
   "cell_type": "markdown",
   "id": "3593f012",
   "metadata": {},
   "source": [
    "### Model Inference: Generating Start and End Logits\n",
    "\n",
    "In this part of the code, the prepared input (tokens and segment IDs) is passed into the **BERT model** to perform question-answering. Here's what happens:\n",
    "\n",
    "1. **Input Preparation**:\n",
    "   - `input_ids`: These represent the tokenized question and context text combined, which is the input format expected by BERT.\n",
    "   - `segment_ids`: These identify which tokens belong to the question (Segment A) and which belong to the text (Segment B). This helps the model differentiate between the two when making predictions.\n",
    "\n",
    "2. **Model Forward Pass**:\n",
    "   The `model()` function is called with the `input_ids` and `segment_ids` tensors:\n",
    "   - `torch.tensor([input_ids])`: This converts the `input_ids` into a tensor that can be processed by the model.\n",
    "   - `token_type_ids=torch.tensor([segment_ids])`: This converts the `segment_ids` into a tensor, which is also passed to the model to distinguish between the question and the context.\n",
    "\n",
    "3. **Output**:\n",
    "   The output of the model consists of two parts:\n",
    "   - `output.start_logits`: These represent the logits (predicted raw scores) for the start position of the answer in the text.\n",
    "   - `output.end_logits`: These represent the logits for the end position of the answer.\n",
    "\n",
    "These logits are used to identify the span (start and end) of the answer within the provided context text. The higher the logit values, the more likely the token at that position is part of the answer.\n",
    "\n",
    "This part of the code essentially runs the question through the BERT model to generate the starting and ending positions for the answer to the question from the provided context."
   ]
  },
  {
   "cell_type": "code",
   "execution_count": 15,
   "id": "3bbaf628",
   "metadata": {},
   "outputs": [],
   "source": [
    "#token input_ids to represent the input\n",
    "#token segment_ids to differentiate our segments - text and question \n",
    "output = model(torch.tensor([input_ids]), token_type_ids=torch.tensor([segment_ids]))\n",
    "#print(output.start_logits, output.end_logits)"
   ]
  },
  {
   "cell_type": "markdown",
   "id": "75a43263",
   "metadata": {},
   "source": [
    "### Extracting the Answer: Finding the Start and End Indices\n",
    "\n",
    "In this part of the code, we are extracting the answer from the model's output by identifying the start and end positions of the answer within the context text. Here's how it works:\n",
    "\n",
    "1. **Identifying the Start and End of the Answer**:\n",
    "   - `torch.argmax(output.start_logits)`: This returns the index of the token that has the highest score in the `start_logits`. The index with the highest value corresponds to the predicted starting point of the answer in the context.\n",
    "   - `torch.argmax(output.end_logits)`: Similarly, this returns the index of the token with the highest score in the `end_logits`. This index corresponds to the predicted ending point of the answer.\n",
    "\n",
    "2. **Explanation of the Process**:\n",
    "   The model returns a pair of logits:\n",
    "   - The **start logit** represents the likelihood of each token being the beginning of the answer.\n",
    "   - The **end logit** represents the likelihood of each token being the end of the answer.\n",
    "\n",
    "   By using `torch.argmax()`, we find the token positions that have the highest likelihood for being the start and end of the answer.\n",
    "\n",
    "This step is crucial for extracting the span of the answer from the context text, as the model's task is not just to generate a single word but to pinpoint the beginning and end of the answer within the text."
   ]
  },
  {
   "cell_type": "code",
   "execution_count": 16,
   "id": "e6eb42b6",
   "metadata": {},
   "outputs": [],
   "source": [
    "#tokens with highest start and end scores\n",
    "answer_start = torch.argmax(output.start_logits)\n",
    "answer_end = torch.argmax(output.end_logits)\n",
    "#print(answer_start, answer_end)"
   ]
  },
  {
   "cell_type": "markdown",
   "id": "8ffa5f57",
   "metadata": {},
   "source": [
    "### Displaying the Answer\n",
    "\n",
    "In this final part of the code, we display the answer extracted by the BERT model, if a valid answer span is found. Here's the breakdown of the code:\n",
    "\n",
    "1. **Validating the Answer Span**:\n",
    "   - The condition `if answer_end >= answer_start:` ensures that the end token is not before the start token. If this is the case, it indicates that a valid answer span has been identified.\n",
    "   - If the condition is met, we extract the answer from the `tokens` list using the `answer_start` and `answer_end` indices, and concatenate the tokens into a human-readable string using `\" \".join()`.\n",
    "   - If the condition is not met (i.e., the model fails to find a valid answer), it will print a message stating that it is unable to find the answer and encourages the user to ask another question.\n",
    "\n",
    "2. **Displaying the Results**:\n",
    "   - Finally, the **text**, **question**, and **answer** are printed out. The `.capitalize()` method is used to make the first letter of the text and question uppercase for better readability.\n",
    "\n",
    "### Example Output:\n",
    "The output will display the context text, the question asked, and the answer found by the model. If no answer is found, it will prompt the user to ask another question.\n",
    "\n",
    "This step ensures that the system provides a clear and user-friendly response to the question based on the context provided."
   ]
  },
  {
   "cell_type": "code",
   "execution_count": 17,
   "id": "f68eaf0a",
   "metadata": {},
   "outputs": [
    {
     "name": "stdout",
     "output_type": "stream",
     "text": [
      "Text:\n",
      "Sam hated doing chores. and he had many chores. for example,on mondays, wednesdays and fridays he took out the rubbish. and on weekends he always washed his father's car. he also cleaned his own room once a week. what a chore that was! sometimes he even had to look after his little sister and brother. sam had a foreign friend at school. his name was kumar. doing chores in kumar's family was very different. in the house only the girls did chores. his sisters made all the beds and cleaned all the rooms too, even his bedroom.his mother always cooked the meals, and his sisters helped her to go shopping, and prepare the food. they worked hard at home,doing all the chores with their mother. so when kumar talked to his friend sam about chores, he felt very lucky. one day, sam had an idea. he asked kumar,\"could i borrow your sisters? \" he wanted them to help him clean his room,but they said \" no \" instead, they asked sam to teach their brother how to do chores, so he could make his own bed. sam and kumar are very good at science. they are going to be scientists after university. they want to make a robot to do the chores. then everyone-mothers and fathers, sons and daughters-will be happy!\n",
      "\n",
      "Question:\n",
      "What did his mother do?\n",
      "\n",
      "Answer:\n",
      "Cooked the meals.\n"
     ]
    }
   ],
   "source": [
    "if answer_end >= answer_start:\n",
    "    answer = \" \".join(tokens[answer_start:answer_end+1])\n",
    "else:\n",
    "    print(\"I am unable to find the answer to this question. Can you please ask another question?\")\n",
    "    \n",
    "print(\"Text:\\n{}\".format(text.capitalize()))\n",
    "print(\"\\nQuestion:\\n{}\".format(question.capitalize()))\n",
    "print(\"\\nAnswer:\\n{}.\".format(answer.capitalize()))"
   ]
  },
  {
   "cell_type": "markdown",
   "id": "6ee8c672",
   "metadata": {},
   "source": [
    "### Extracting and Displaying Start and End Scores\n",
    "\n",
    "In this part of the code, we focus on extracting and processing the logits (start and end scores) from the model’s output. Here's the detailed breakdown:\n",
    "\n",
    "1. **Extracting Logits**:\n",
    "   - `start_scores = output.start_logits.detach().numpy().flatten()`: The `start_logits` correspond to the model's prediction of the start position of the answer. These logits are detached from the computation graph, converted to a NumPy array, and then flattened for easier handling.\n",
    "   - Similarly, `end_scores = output.end_logits.detach().numpy().flatten()` extracts and flattens the `end_logits` corresponding to the predicted end position of the answer.\n",
    "\n",
    "2. **Creating Token Labels**:\n",
    "   - The loop `for i, token in enumerate(tokens):` iterates over the tokens generated by the tokenizer.\n",
    "   - `token_labels.append(\"{}-{}\".format(token, i))`: For each token, it appends the token and its index to the `token_labels` list, formatted as `token-index`. This allows us to track the position of each token in the input sequence, which is useful when visualizing or analyzing which tokens contribute to the answer prediction.\n",
    "\n",
    "### Example of Output:\n",
    "The `token_labels` list will look something like this, with each token and its index:\n",
    "```\n",
    "['[CLS]-0', 'what-1', 'is-2', 'the-3', 'capital-4', 'of-5', 'france-6', '?-7', '[SEP]-8']\n",
    "```\n",
    "\n",
    "This provides a labeled view of all the tokens, which can be used for detailed analysis, such as identifying which tokens correspond to the start and end of the predicted answer span."
   ]
  },
  {
   "cell_type": "code",
   "execution_count": 18,
   "id": "29fdb4c9",
   "metadata": {},
   "outputs": [],
   "source": [
    "start_scores = output.start_logits.detach().numpy().flatten()\n",
    "end_scores = output.end_logits.detach().numpy().flatten()\n",
    "\n",
    "token_labels = []\n",
    "for i, token in enumerate(tokens):\n",
    "    token_labels.append(\"{}-{}\".format(token,i))"
   ]
  },
  {
   "cell_type": "markdown",
   "id": "806364ba",
   "metadata": {},
   "source": [
    "The code `print(len(token_labels))` will display the number of elements in the `token_labels` list. \n",
    "\n",
    "This list contains tokens from the input sequence (question + text), along with their respective indices. The length of `token_labels` corresponds to the total number of tokens in the combined input sequence (including both the question and the passage of text) plus any special tokens (like `[CLS]` and `[SEP]`) used by the BERT model.\n",
    "\n",
    "For example, if the combined question and text contain 10 tokens, and there are 2 special tokens (`[CLS]` and `[SEP]`), the length of `token_labels` would be 12.\n",
    "\n",
    "This length is helpful for understanding how many tokens are processed by the BERT model, which can influence how we interpret the model's predictions."
   ]
  },
  {
   "cell_type": "code",
   "execution_count": 19,
   "id": "0200a015",
   "metadata": {},
   "outputs": [
    {
     "name": "stdout",
     "output_type": "stream",
     "text": [
      "281\n"
     ]
    }
   ],
   "source": [
    "print(len(token_labels))"
   ]
  },
  {
   "cell_type": "markdown",
   "id": "19f4227b",
   "metadata": {},
   "source": [
    "This code snippet is designed to visualize the \"start word scores\" from the BERT model's output. Here's a breakdown of what the code does:\n",
    "\n",
    "### Key Elements:\n",
    "1. **`plt.rcParams[\"figure.figsize\"] = (20,10)`**:\n",
    "   - This line sets the size of the plot, making it wider (20 inches) and taller (10 inches), which is useful for visualizing a large number of tokens.\n",
    "\n",
    "2. **`sns.barplot(x=token_labels[:80], y=start_scores[:80], ci=None)`**:\n",
    "   - `sns.barplot()` is a Seaborn function used to create bar plots.\n",
    "   - `x=token_labels[:80]`: The `x` axis represents the first 80 tokens, as defined by `token_labels[:80]`.\n",
    "   - `y=start_scores[:80]`: The `y` axis represents the corresponding \"start scores\" for the first 80 tokens, which are the model's predictions for where the answer to the question begins.\n",
    "   - `ci=None`: This disables the confidence intervals around the bar heights.\n",
    "\n",
    "3. **`ax.set_xticklabels(ax.get_xticklabels(), rotation=90, ha=\"center\")`**:\n",
    "   - This rotates the x-axis labels (token labels) by 90 degrees to make them easier to read, especially when there are many labels.\n",
    "   - `ha=\"center\"` centers the labels along the x-axis.\n",
    "\n",
    "4. **`ax.grid(True)`**:\n",
    "   - Adds gridlines to the plot, improving readability.\n",
    "\n",
    "5. **`plt.title(\"Start word scores\")`**:\n",
    "   - Adds a title to the plot, indicating that it shows the \"start word scores.\"\n",
    "\n",
    "6. **`plt.show()`**:\n",
    "   - Displays the plot.\n",
    "\n",
    "### Purpose:\n",
    "This visualization helps you see which tokens in the input (question + text) are most likely to be the starting point for the answer, according to the BERT model. The higher the \"start score,\" the more confident the model is that the token marks the beginning of the answer. The bar plot makes it easy to compare the relevance of each token in relation to the model's prediction.\n",
    "\n",
    "### Expected Output:\n",
    "The output will be a bar plot where:\n",
    "- The x-axis shows the tokens (e.g., words, punctuation marks) from the question and text.\n",
    "- The y-axis shows the \"start word scores\" indicating how likely each token is to mark the start of the answer.\n",
    "- Tokens with higher scores are considered more likely to start the answer."
   ]
  },
  {
   "cell_type": "code",
   "execution_count": 20,
   "id": "62881d7b",
   "metadata": {},
   "outputs": [
    {
     "data": {
      "image/png": "[encoded data removed]",
      "text/plain": [
       "<Figure size 1440x720 with 1 Axes>"
      ]
     },
     "metadata": {
      "needs_background": "light"
     },
     "output_type": "display_data"
    }
   ],
   "source": [
    "#first 100 tokens\n",
    "plt.rcParams[\"figure.figsize\"] = (20,10)\n",
    "ax = sns.barplot(x=token_labels[:80], y=start_scores[:80], ci=None)\n",
    "ax.set_xticklabels(ax.get_xticklabels(), rotation=90, ha=\"center\")\n",
    "ax.grid(True)\n",
    "plt.title(\"Start word scores\")\n",
    "plt.show()"
   ]
  },
  {
   "cell_type": "markdown",
   "id": "9a31accb",
   "metadata": {},
   "source": [
    "This code is similar to the previous one but focuses on the last 100 tokens rather than the first 100 tokens. Here's an explanation of the key elements:\n",
    "\n",
    "### Key Elements:\n",
    "1. **`plt.rcParams[\"figure.figsize\"] = (20,10)`**:\n",
    "   - Sets the plot's size (20 inches wide and 10 inches tall) for better readability, especially when dealing with many tokens.\n",
    "\n",
    "2. **`sns.barplot(x=token_labels[-80:], y=start_scores[-80:], ci=None)`**:\n",
    "   - `sns.barplot()` creates a bar plot with:\n",
    "     - `x=token_labels[-80:]`: The last 80 tokens from the `token_labels` list are shown on the x-axis.\n",
    "     - `y=start_scores[-80:]`: The corresponding \"start scores\" for the last 80 tokens are shown on the y-axis.\n",
    "   - `ci=None` disables the confidence intervals around the bars, focusing only on the actual start scores.\n",
    "\n",
    "3. **`ax.set_xticklabels(ax.get_xticklabels(), rotation=90, ha=\"center\")`**:\n",
    "   - Rotates the x-axis labels (tokens) by 90 degrees for easier reading, especially when there are long token labels.\n",
    "   - `ha=\"center\"` ensures the labels are centered under each bar on the x-axis.\n",
    "\n",
    "4. **`ax.grid(True)`**:\n",
    "   - Adds gridlines to the plot for better visual clarity.\n",
    "\n",
    "5. **`plt.title(\"Start word scores\")`**:\n",
    "   - Adds the title \"Start word scores\" to the plot, which helps to clarify what the plot is showing.\n",
    "\n",
    "6. **`plt.show()`**:\n",
    "   - Displays the plot with the data visualized.\n",
    "\n",
    "### Purpose:\n",
    "This visualization focuses on the last 80 tokens in the input (question and text) and their corresponding \"start word scores\" as predicted by the BERT model. The purpose is to examine which tokens in the latter part of the sequence are likely to mark the start of the answer. \n",
    "\n",
    "### Expected Output:\n",
    "- The x-axis will show the last 80 tokens from the question and text.\n",
    "- The y-axis will display the \"start word scores,\" indicating the model's confidence in each token being the starting point of the answer.\n",
    "- Tokens with higher \"start scores\" suggest that the model is confident that the answer begins at that token. \n",
    "\n",
    "This helps in analyzing how well the BERT model identifies the starting point of an answer within the entire context, including the later tokens of the input."
   ]
  },
  {
   "cell_type": "code",
   "execution_count": 21,
   "id": "0cef06c8",
   "metadata": {},
   "outputs": [
    {
     "data": {
      "image/png": "[encoded data removed]",
      "text/plain": [
       "<Figure size 1440x720 with 1 Axes>"
      ]
     },
     "metadata": {
      "needs_background": "light"
     },
     "output_type": "display_data"
    }
   ],
   "source": [
    "#last 100 tokens\n",
    "plt.rcParams[\"figure.figsize\"] = (20,10)\n",
    "ax = sns.barplot(x=token_labels[-80:], y=start_scores[-80:], ci=None)\n",
    "ax.set_xticklabels(ax.get_xticklabels(), rotation=90, ha=\"center\")\n",
    "ax.grid(True)\n",
    "plt.title(\"Start word scores\")\n",
    "plt.show()"
   ]
  },
  {
   "cell_type": "markdown",
   "id": "71b2486e",
   "metadata": {},
   "source": [
    "This code is almost identical to the previous one, but it focuses on visualizing the \"end word scores\" rather than the \"start word scores.\" Here's a breakdown of its key components:\n",
    "\n",
    "### Key Elements:\n",
    "1. **`plt.rcParams[\"figure.figsize\"] = (20,10)`**:\n",
    "   - Sets the size of the plot to 20 inches in width and 10 inches in height, ensuring it's large enough for clear visualization of the data.\n",
    "\n",
    "2. **`sns.barplot(x=token_labels[:80], y=end_scores[:80], ci=None)`**:\n",
    "   - `sns.barplot()` is used to create a bar plot, with:\n",
    "     - `x=token_labels[:80]`: The first 80 tokens from the `token_labels` list displayed on the x-axis.\n",
    "     - `y=end_scores[:80]`: The corresponding \"end scores\" for the first 80 tokens displayed on the y-axis.\n",
    "   - `ci=None` disables the confidence intervals around the bars, focusing only on the actual end scores.\n",
    "\n",
    "3. **`ax.set_xticklabels(ax.get_xticklabels(), rotation=90, ha=\"center\")`**:\n",
    "   - Rotates the x-axis labels (tokens) by 90 degrees to make them easier to read, especially if they are long.\n",
    "   - `ha=\"center\"` ensures that the labels are centered directly beneath the bars.\n",
    "\n",
    "4. **`ax.grid(True)`**:\n",
    "   - Enables gridlines on the plot for easier interpretation of the values.\n",
    "\n",
    "5. **`plt.title(\"End word scores\")`**:\n",
    "   - Adds the title \"End word scores\" to the plot, clarifying that it shows the confidence of the BERT model in predicting the end position of the answer.\n",
    "\n",
    "6. **`plt.show()`**:\n",
    "   - Displays the plot with the visualized data.\n",
    "\n",
    "### Purpose:\n",
    "This plot is designed to display the \"end word scores\" for the first 80 tokens in the question and text. The \"end word scores\" are the model's confidence scores for where the answer ends in the provided context. This helps identify which token in the input sequence (question + context) is predicted to mark the end of the answer.\n",
    "\n",
    "### Expected Output:\n",
    "- The x-axis will show the first 80 tokens from the input.\n",
    "- The y-axis will represent the \"end word scores,\" indicating the likelihood of each token being the ending point of the answer.\n",
    "- Higher scores on the y-axis suggest that the corresponding token is predicted to be part of the answer's ending.\n",
    "\n",
    "This visualization complements the \"start word scores\" plot, giving a full picture of where the BERT model believes the answer begins and ends in the text. Together, these plots allow you to analyze the model's behavior in locating the answer span within a given context."
   ]
  },
  {
   "cell_type": "code",
   "execution_count": 22,
   "id": "61ad79ca",
   "metadata": {},
   "outputs": [
    {
     "data": {
      "image/png": "[encoded data removed]",
      "text/plain": [
       "<Figure size 1440x720 with 1 Axes>"
      ]
     },
     "metadata": {
      "needs_background": "light"
     },
     "output_type": "display_data"
    }
   ],
   "source": [
    "#first 100 tokens\n",
    "plt.rcParams[\"figure.figsize\"] = (20,10)\n",
    "ax = sns.barplot(x=token_labels[:80], y=end_scores[:80], ci=None)\n",
    "ax.set_xticklabels(ax.get_xticklabels(), rotation=90, ha=\"center\")\n",
    "ax.grid(True)\n",
    "plt.title(\"End word scores\")\n",
    "plt.show()"
   ]
  },
  {
   "cell_type": "markdown",
   "id": "4304bd61",
   "metadata": {},
   "source": [
    "This code generates a bar plot of the \"end word scores\" for the last 80 tokens in the question-answering task. Here's a detailed explanation of the components of the code:\n",
    "\n",
    "### Key Elements:\n",
    "1. **`plt.rcParams[\"figure.figsize\"] = (20,10)`**:\n",
    "   - This line adjusts the figure size, setting it to 20 inches wide and 10 inches tall. This ensures the plot is large enough to display the information clearly.\n",
    "\n",
    "2. **`ax = sns.barplot(x=token_labels[-80:], y=end_scores[-80:], ci=None)`**:\n",
    "   - **`sns.barplot()`** creates the bar plot. The parameters are:\n",
    "     - `x=token_labels[-80:]`: This selects the last 80 tokens from the `token_labels` list to be shown along the x-axis.\n",
    "     - `y=end_scores[-80:]`: This selects the corresponding \"end scores\" for those 80 tokens, which will be plotted on the y-axis.\n",
    "   - `ci=None` disables the confidence intervals around the bars, focusing solely on the \"end scores\" for each token.\n",
    "\n",
    "3. **`ax.set_xticklabels(ax.get_xticklabels(), rotation=90, ha=\"center\")`**:\n",
    "   - Rotates the x-axis labels (the tokens) by 90 degrees to make them easier to read, particularly for tokens that are long or close together.\n",
    "   - The `ha=\"center\"` parameter ensures that the labels are centered directly below the bars.\n",
    "\n",
    "4. **`ax.grid(True)`**:\n",
    "   - Enables gridlines on the plot, making it easier to interpret the data.\n",
    "\n",
    "5. **`plt.title(\"End word scores\")`**:\n",
    "   - Adds a title to the plot that reads \"End word scores,\" which indicates that this plot visualizes the model's confidence in predicting the end position of the answer.\n",
    "\n",
    "6. **`plt.show()`**:\n",
    "   - Displays the plot with the bars showing the \"end word scores.\"\n",
    "\n",
    "### Purpose of the Plot:\n",
    "This plot visualizes the confidence scores that the BERT model assigns to each token in predicting the end of the answer. By focusing on the last 80 tokens in the sequence, it shows how the model evaluates the likelihood of each token being the end of the answer span within the context (text + question).\n",
    "\n",
    "### Expected Output:\n",
    "- **X-axis**: The last 80 tokens from the question and context combined.\n",
    "- **Y-axis**: The corresponding end word scores, which represent how confident the model is about each token being part of the answer's end.\n",
    "- The plot will help you understand which tokens the model is focusing on as potential endpoints for the answer, as well as visualize the model's confidence in its predictions.\n",
    "\n",
    "This plot complements the \"start word scores\" plot, providing a more complete picture of how the model identifies the answer span in the input text. By analyzing both plots together, you can observe where the model believes the answer starts and ends within the given text."
   ]
  },
  {
   "cell_type": "code",
   "execution_count": 23,
   "id": "fb416458",
   "metadata": {},
   "outputs": [
    {
     "data": {
      "image/png": "[encoded data removed]",
      "text/plain": [
       "<Figure size 1440x720 with 1 Axes>"
      ]
     },
     "metadata": {
      "needs_background": "light"
     },
     "output_type": "display_data"
    }
   ],
   "source": [
    "#last 100 tokens\n",
    "plt.rcParams[\"figure.figsize\"] = (20,10)\n",
    "ax = sns.barplot(x=token_labels[-80:], y=end_scores[-80:], ci=None)\n",
    "ax.set_xticklabels(ax.get_xticklabels(), rotation=90, ha=\"center\")\n",
    "ax.grid(True)\n",
    "plt.title(\"End word scores\")\n",
    "plt.show()"
   ]
  },
  {
   "cell_type": "markdown",
   "id": "b11a16fa",
   "metadata": {},
   "source": [
    "This section of the code is responsible for reconstructing the answer from the predicted start and end positions. Here's a detailed explanation of each part:\n",
    "\n",
    "### Code Breakdown:\n",
    "\n",
    "1. **`answer = tokens[answer_start]`**:\n",
    "   - The answer string is initialized with the token at the `answer_start` index. This is the first token in the predicted answer span.\n",
    "   - `tokens[answer_start]` is a token from the input sequence that represents the beginning of the answer.\n",
    "\n",
    "2. **`for i in range(answer_start + 1, answer_end + 1):`**:\n",
    "   - This loop iterates through the tokens in the input sequence, starting from the token immediately following the start token (`answer_start + 1`) to the token at the predicted end position (`answer_end`).\n",
    "   - It appends each token to the answer string, properly handling sub-word tokens that were split by BERT’s tokenizer.\n",
    "\n",
    "3. **`if tokens[i][0:2] == \"##\":`**:\n",
    "   - BERT uses a WordPiece tokenizer that splits words into smaller sub-word units if necessary. Sub-word tokens are prefixed with `\"##\"`.\n",
    "   - This condition checks if the token starts with `\"##\"`, indicating that it is a sub-word token that should be joined to the previous token in the answer string.\n",
    "\n",
    "4. **`answer += tokens[i][2:]`**:\n",
    "   - If the token is a sub-word token (starts with `\"##\"`), this line removes the `\"##\"` prefix and appends the rest of the token to the answer string, effectively joining the sub-word with the previous token.\n",
    "\n",
    "5. **`else:`**:\n",
    "   - If the token is not a sub-word (i.e., it does not start with `\"##\"`), this part handles normal tokens that should be separated by a space.\n",
    "\n",
    "6. **`answer += \" \" + tokens[i]`**:\n",
    "   - For regular tokens, the token is appended to the answer string with a space before it, ensuring proper word separation.\n",
    "\n",
    "### Purpose of This Code:\n",
    "\n",
    "- The goal of this part of the code is to **reconstruct the complete answer** from the tokenized form.\n",
    "- Since BERT’s tokenizer may split words into sub-word tokens (e.g., \"playing\" might be split into \"play\" and \"##ing\"), this code ensures that the sub-word tokens are correctly combined back into the full words as part of the answer string.\n",
    "  \n",
    "### Example:\n",
    "\n",
    "Assuming the tokenized input is as follows:\n",
    "- Input text: \"The capital of France is Paris.\"\n",
    "- Tokenized text: `[\"the\", \"capital\", \"of\", \"fr\", \"##ance\", \"is\", \"paris\", \".\"]`\n",
    "\n",
    "If the predicted answer span is from token index 3 (`\"fr\"`) to token index 4 (`\"##ance\"`), this code will combine those two sub-tokens into `\"france\"` and return it as the final answer.\n",
    "\n",
    "### Final Output:\n",
    "The `answer` variable will contain the full answer, even if it was split into sub-tokens by BERT's tokenizer. For example, if the answer span is `\"capital of France\"`, it will return `\"capital of France\"` correctly, without the sub-word `\"##\"` prefix in the middle of the word."
   ]
  },
  {
   "cell_type": "code",
   "execution_count": 24,
   "id": "6d14f333",
   "metadata": {},
   "outputs": [],
   "source": [
    "answer = tokens[answer_start]\n",
    "\n",
    "for i in range(answer_start+1, answer_end+1):\n",
    "    if tokens[i][0:2] == \"##\":\n",
    "        answer += tokens[i][2:]\n",
    "    else:\n",
    "        answer += \" \" + tokens[i]"
   ]
  },
  {
   "cell_type": "markdown",
   "id": "898448c6",
   "metadata": {},
   "source": [
    "This code defines a function `question_answer` that uses the BERT model for answering questions based on a given text. Here's a detailed breakdown of the function:\n",
    "\n",
    "### Function Overview:\n",
    "The `question_answer` function takes a **question** and a **context text** as inputs and performs the following tasks:\n",
    "- Tokenizes the input question and context.\n",
    "- Passes the tokenized inputs through the pre-trained BERT model for question answering.\n",
    "- Reconstructs the answer from the model’s predicted start and end positions.\n",
    "- Handles cases where the answer is not found or the model fails to provide an answer.\n",
    "\n",
    "### Code Breakdown:\n",
    "\n",
    "1. **Tokenize the Question and Text**:\n",
    "    - `input_ids = tokenizer.encode(question, text)`:\n",
    "      - The question and the context text are tokenized and converted into input IDs using the `tokenizer.encode` method. These IDs represent the question and text as tokens that BERT can process.\n",
    "    - `tokens = tokenizer.convert_ids_to_tokens(input_ids)`:\n",
    "      - This converts the input IDs back to human-readable token format for reference when reconstructing the answer.\n",
    "\n",
    "2. **Create Segment IDs**:\n",
    "    - **First occurrence of `[SEP]` token**: \n",
    "      - The `[SEP]` token is used to separate the question from the context text. The index of this token is found using `input_ids.index(tokenizer.sep_token_id)`.\n",
    "    - **Number of tokens in each segment**:\n",
    "      - The question and the context text are treated as separate segments by BERT. Segment A (the question) has a length of `sep_idx + 1`, and Segment B (the context) has the remaining tokens.\n",
    "    - **Segment IDs**: \n",
    "      - A list of segment IDs is created, with `0`s for the question segment (A) and `1`s for the context segment (B). This list is used to differentiate between the two segments when feeding data into BERT.\n",
    "      - The segment IDs are checked to ensure they match the length of the input tokens using the assertion `assert len(segment_ids) == len(input_ids)`.\n",
    "\n",
    "3. **Model Prediction**:\n",
    "    - The input IDs and segment IDs are passed to the pre-trained BERT model:\n",
    "      - `output = model(torch.tensor([input_ids]), token_type_ids=torch.tensor([segment_ids]))`\n",
    "    - The model outputs two logits (`start_logits` and `end_logits`), which represent the predicted positions of the answer span (start and end) in the tokenized input.\n",
    "\n",
    "4. **Reconstructing the Answer**:\n",
    "    - **Finding the start and end positions**:\n",
    "      - `answer_start = torch.argmax(output.start_logits)` and `answer_end = torch.argmax(output.end_logits)` give the positions of the start and end of the answer span in the tokenized sequence.\n",
    "    - **Reconstructing the full answer**:\n",
    "      - The answer is initialized with a default message (\"Unable to find the answer to your question.\") in case the model fails to find a valid answer.\n",
    "      - If the predicted end position is greater than or equal to the start position, the answer is reconstructed from the tokens between the start and end indices.\n",
    "      - Sub-word tokens (tokens that start with \"##\") are handled by joining them with the previous token without any spaces.\n",
    "      - The reconstructed answer is then formatted and printed.\n",
    "\n",
    "5. **Handle Edge Cases**:\n",
    "    - If the answer starts with `[CLS]`, it indicates that the model couldn’t find a valid answer, so the default message is returned.\n",
    "\n",
    "### Example Flow:\n",
    "- **Input**: \n",
    "  - `question = \"Who is the president of the USA?\"`\n",
    "  - `text = \"The president of the United States is Joe Biden.\"`\n",
    "- **Process**:\n",
    "  - The input question and text are tokenized and processed through the BERT model.\n",
    "  - BERT predicts that the answer is \"Joe Biden.\"\n",
    "  - The answer is reconstructed and displayed.\n",
    "\n",
    "### Output:\n",
    "- The function will print:\n",
    "  - **Answer**: \"Joe Biden.\"\n",
    "  - If no answer is found, it prints \"Unable to find the answer to your question.\"\n",
    "\n",
    "### Use Case:\n",
    "This function is useful in scenarios where a question-answering model (like BERT) needs to answer specific questions based on a given passage of text. It can be applied in a variety of applications such as:\n",
    "- **Automated customer support** (answering questions based on product manuals).\n",
    "- **Educational tools** (answering questions based on textbooks or research papers).\n",
    "- **Information retrieval systems** (extracting answers from documents or articles).\n",
    "\n",
    "### Important Considerations:\n",
    "- The model relies on the pre-trained BERT model fine-tuned on question answering tasks (e.g., SQuAD).\n",
    "- Tokenization and segmenting the input text and question is crucial for the model to correctly differentiate between the question and the context.\n"
   ]
  },
  {
   "cell_type": "code",
   "execution_count": 25,
   "id": "6d19881a",
   "metadata": {},
   "outputs": [],
   "source": [
    "def question_answer(question, text):\n",
    "    \n",
    "    #tokenize question and text in ids as a pair\n",
    "    input_ids = tokenizer.encode(question, text)\n",
    "    \n",
    "    #string version of tokenized ids\n",
    "    tokens = tokenizer.convert_ids_to_tokens(input_ids)\n",
    "    \n",
    "    #segment IDs\n",
    "    #first occurence of [SEP] token\n",
    "    sep_idx = input_ids.index(tokenizer.sep_token_id)\n",
    "\n",
    "    #number of tokens in segment A - question\n",
    "    num_seg_a = sep_idx+1\n",
    "\n",
    "    #number of tokens in segment B - text\n",
    "    num_seg_b = len(input_ids) - num_seg_a\n",
    "    \n",
    "    #list of 0s and 1s\n",
    "    segment_ids = [0]*num_seg_a + [1]*num_seg_b\n",
    "    \n",
    "    assert len(segment_ids) == len(input_ids)\n",
    "    \n",
    "    #model output using input_ids and segment_ids\n",
    "    output = model(torch.tensor([input_ids]), token_type_ids=torch.tensor([segment_ids]))\n",
    "    \n",
    "    #reconstructing the answer\n",
    "    answer_start = torch.argmax(output.start_logits)\n",
    "    answer_end = torch.argmax(output.end_logits)\n",
    "    \n",
    "    # Initialize the answer variable with a default value\n",
    "    answer = \"Unable to find the answer to your question.\"\n",
    "\n",
    "    if answer_end >= answer_start:\n",
    "        answer = tokens[answer_start]\n",
    "        for i in range(answer_start+1, answer_end+1):\n",
    "            if tokens[i][0:2] == \"##\":\n",
    "                answer += tokens[i][2:]\n",
    "            else:\n",
    "                answer += \" \" + tokens[i]\n",
    "                \n",
    "    if answer.startswith(\"[CLS]\"):\n",
    "        answer = \"Unable to find the answer to your question.\"\n",
    "    \n",
    "#     print(\"Text:\\n{}\".format(text.capitalize()))\n",
    "#     print(\"\\nQuestion:\\n{}\".format(question.capitalize()))\n",
    "    print(\"\\nAnswer:\\n{}\".format(answer.capitalize()))"
   ]
  },
  {
   "cell_type": "markdown",
   "id": "4c60e4ea",
   "metadata": {},
   "source": [
    "When we run the `question_answer(question, text)` function, it will output the answer based on the question and the provided text."
   ]
  },
  {
   "cell_type": "code",
   "execution_count": 26,
   "id": "628c643d",
   "metadata": {},
   "outputs": [
    {
     "name": "stdout",
     "output_type": "stream",
     "text": [
      "\n",
      "Answer:\n",
      "Hard rock cafe in new york ' s times square\n"
     ]
    }
   ],
   "source": [
    "text = \"\"\"New York (CNN) -- More than 80 Michael Jackson collectibles -- including the late pop star's famous rhinestone-studded glove from a 1983 performance -- were auctioned off Saturday, reaping a total $2 million. Profits from the auction at the Hard Rock Cafe in New York's Times Square crushed pre-sale expectations of only $120,000 in sales. The highly prized memorabilia, which included items spanning the many stages of Jackson's career, came from more than 30 fans, associates and family members, who contacted Julien's Auctions to sell their gifts and mementos of the singer. Jackson's flashy glove was the big-ticket item of the night, fetching $420,000 from a buyer in Hong Kong, China. Jackson wore the glove at a 1983 performance during \\\"Motown 25,\\\" an NBC special where he debuted his revolutionary moonwalk. Fellow Motown star Walter \\\"Clyde\\\" Orange of the Commodores, who also performed in the special 26 years ago, said he asked for Jackson's autograph at the time, but Jackson gave him the glove instead. \"The legacy that [Jackson] left behind is bigger than life for me,\\\" Orange said. \\\"I hope that through that glove people can see what he was trying to say in his music and what he said in his music.\\\" Orange said he plans to give a portion of the proceeds to charity. Hoffman Ma, who bought the glove on behalf of Ponte 16 Resort in Macau, paid a 25 percent buyer's premium, which was tacked onto all final sales over $50,000. Winners of items less than $50,000 paid a 20 percent premium.\"\"\"\n",
    "question = \"Where was the Auction held?\"\n",
    "\n",
    "question_answer(question, text)"
   ]
  },
  {
   "cell_type": "markdown",
   "id": "bdae5d64",
   "metadata": {},
   "source": [
    "The line of code provided will print the **original answer** to the question from the CoQA dataset. Here's how it works:\n",
    "\n",
    "- `data.loc[data[\"question\"] == question]` filters the DataFrame `data` to find the row where the \"question\" column matches the value of `question`.\n",
    "- `.values[0]` accesses the answer from that row.\n",
    "\n",
    "If the question is `\"Where was the Auction held?\"` in the context of your CoQA dataset, this will print the answer from the dataset corresponding to that question.\n",
    "\n",
    "For example:\n",
    "\n",
    "```python\n",
    "print(\"Original answer:\\n\", data.loc[data[\"question\"] == question][\"answer\"].values[0])\n",
    "```\n",
    "\n",
    "If the CoQA dataset contains a matching entry for this question, the output might look like:\n",
    "\n",
    "```\n",
    "Original answer:\n",
    " The auction was held at the Hard Rock Cafe in New York's Times Square.\n",
    "```\n",
    "\n",
    "This output reflects the correct answer to the question according to the CoQA dataset."
   ]
  },
  {
   "cell_type": "code",
   "execution_count": 27,
   "id": "369368f8",
   "metadata": {},
   "outputs": [
    {
     "name": "stdout",
     "output_type": "stream",
     "text": [
      "Original answer:\n",
      " Hard Rock Cafe\n"
     ]
    }
   ],
   "source": [
    "print(\"Original answer:\\n\", data.loc[data[\"question\"] == question][\"answer\"].values[0])"
   ]
  },
  {
   "cell_type": "markdown",
   "id": "08208cdd",
   "metadata": {},
   "source": [
    "The code provided is an interactive loop where the user can input a text and a question and the model will answer the question based on the provided text. After the answer is provided, the user is given the option to ask another question or exit the loop.\n",
    "\n",
    "### Here's how the code works:\n",
    "1. **Input Text and Question**:\n",
    "   - The user is prompted to input a block of text and a question related to that text.\n",
    "   \n",
    "2. **Loop for Multiple Questions**:\n",
    "   - The loop continues to prompt the user to enter new questions related to the same text.\n",
    "   - After answering a question, the user is asked whether they want to ask another question.\n",
    "   - If the user answers \"Y\", the next question is asked and answered.\n",
    "   - If the user answers \"N\", the loop ends and a \"Bye!\" message is printed.\n",
    "   \n",
    "3. **Condition to Exit**:\n",
    "   - The `flag_N` variable is used to exit the outer loop once the user has decided not to ask further questions.\n",
    "\n",
    "### Example Scenario:\n",
    "\n",
    "**User Flow**:\n",
    "1. The user provides a text passage and a question.\n",
    "   \n",
    "   ```\n",
    "   Please enter your text:\n",
    "   New York (CNN) -- More than 80 Michael Jackson collectibles were auctioned off at the Hard Rock Cafe in New York's Times Square.\n",
    "   \n",
    "   Please enter your question:\n",
    "   Where was the auction held?\n",
    "   ```\n",
    "\n",
    "2. The model will process the input and provide an answer to the question.\n",
    "   \n",
    "   ```\n",
    "   Answer: The auction was held at the Hard Rock Cafe in New York's Times Square.\n",
    "   ```\n",
    "\n",
    "3. After the answer is provided, the user will be asked if they want to ask another question.\n",
    "\n",
    "   ```\n",
    "   Do you want to ask another question based on this text (Y/N)? Y\n",
    "   Please enter your question:\n",
    "   What was sold at the auction?\n",
    "   ```\n",
    "\n",
    "4. The user can keep asking questions or type \"N\" to exit the loop.\n",
    "\n",
    "**Exit Scenario**:\n",
    "   ```\n",
    "   Do you want to ask another question based on this text (Y/N)? N\n",
    "   Bye!\n",
    "   ```\n",
    "\n",
    "### Purpose of the Code:\n",
    "- This allows the user to interactively ask multiple questions about a given text and receive answers using the pre-trained BERT-based model for question answering.\n",
    "- The loop ensures that the user can continue querying until they choose to stop.\n",
    "\n",
    "This kind of setup could be useful for building an interactive FAQ system or any system where users want to ask questions about a specific context or document."
   ]
  },
  {
   "cell_type": "code",
   "execution_count": 29,
   "id": "7283b78d",
   "metadata": {},
   "outputs": [
    {
     "name": "stdout",
     "output_type": "stream",
     "text": [
      "Please enter your text: \n",
      "Once upon a time in a quiet village nestled in the hills, there lived a young boy named Eli. He was known for his kind heart and adventurous spirit. Every day, Eli would explore the woods nearby, marveling at the beauty of nature and discovering hidden places. One sunny afternoon, as he wandered deeper into the forest than ever before, he stumbled upon an old, abandoned cabin. Curiosity got the better of him, and he decided to take a closer look.  As he entered the cabin, he found a dusty old chest in the corner. It was locked, but there was a small key hanging from a rusty nail above it. Eli, with his usual bravery, grabbed the key and unlocked the chest. To his amazement, inside were scrolls of ancient maps and a golden compass. The moment he touched the compass, the room seemed to glow with a soft, magical light. It was then that he realized the compass had the power to lead him to any place he wished to go.  Excited, Eli decided to embark on a new adventure, using the magical compass. He wasn’t sure where it would lead him, but he felt deep down that this was only the beginning of something truly remarkable.\n",
      "\n",
      "Please enter your question: \n",
      "How might the ancient maps and the golden compass be connected to a larger, hidden mystery?\n",
      "\n",
      "Answer:\n",
      "The compass had the power to lead him to any place he wished to go\n",
      "\n",
      "Do you want to ask another question based on this text (Y/N)? Y\n",
      "\n",
      "Please enter your question: \n",
      " What do you think Eli's next adventure will be, now that he has the magical compass?\n",
      "\n",
      "Answer:\n",
      "Something truly remarkable\n",
      "\n",
      "Do you want to ask another question based on this text (Y/N)? N\n",
      "\n",
      "Bye!\n"
     ]
    }
   ],
   "source": [
    "text = input(\"Please enter your text: \\n\")\n",
    "question = input(\"\\nPlease enter your question: \\n\")\n",
    "\n",
    "while True:\n",
    "    question_answer(question, text)\n",
    "    \n",
    "    flag = True\n",
    "    flag_N = False\n",
    "    \n",
    "    while flag:\n",
    "        response = input(\"\\nDo you want to ask another question based on this text (Y/N)? \")\n",
    "        if response[0] == \"Y\":\n",
    "            question = input(\"\\nPlease enter your question: \\n\")\n",
    "            flag = False\n",
    "        elif response[0] == \"N\":\n",
    "            print(\"\\nBye!\")\n",
    "            flag = False\n",
    "            flag_N = True\n",
    "            \n",
    "    if flag_N == True:\n",
    "        break"
   ]
  },
  {
   "cell_type": "code",
   "execution_count": null,
   "id": "1190c6ca",
   "metadata": {},
   "outputs": [],
   "source": []
  },
  {
   "cell_type": "code",
   "execution_count": null,
   "id": "d886edac",
   "metadata": {},
   "outputs": [],
   "source": []
  },
  {
   "cell_type": "code",
   "execution_count": null,
   "id": "ace2401e",
   "metadata": {},
   "outputs": [],
   "source": []
  },
  {
   "cell_type": "code",
   "execution_count": null,
   "id": "d7b5b51c",
   "metadata": {},
   "outputs": [],
   "source": []
  },
  {
   "cell_type": "code",
   "execution_count": null,
   "id": "647e6113",
   "metadata": {},
   "outputs": [],
   "source": []
  },
  {
   "cell_type": "code",
   "execution_count": null,
   "id": "dc4fe15e",
   "metadata": {},
   "outputs": [],
   "source": []
  },
  {
   "cell_type": "code",
   "execution_count": null,
   "id": "c7f24567",
   "metadata": {},
   "outputs": [],
   "source": []
  },
  {
   "cell_type": "code",
   "execution_count": null,
   "id": "fb4e5fdb",
   "metadata": {},
   "outputs": [],
   "source": []
  },
  {
   "cell_type": "code",
   "execution_count": null,
   "id": "f99aa651",
   "metadata": {},
   "outputs": [],
   "source": []
  },
  {
   "cell_type": "code",
   "execution_count": null,
   "id": "0e0d3be1",
   "metadata": {},
   "outputs": [],
   "source": []
  },
  {
   "cell_type": "code",
   "execution_count": null,
   "id": "0d23eff4",
   "metadata": {},
   "outputs": [],
   "source": []
  },
  {
   "cell_type": "code",
   "execution_count": null,
   "id": "12ce6ec3",
   "metadata": {},
   "outputs": [],
   "source": []
  }
 ],
 "metadata": {
  "kernelspec": {
   "display_name": "Python (base)",
   "language": "python",
   "name": "base"
  },
  "language_info": {
   "codemirror_mode": {
    "name": "ipython",
    "version": 3
   },
   "file_extension": ".py",
   "mimetype": "text/x-python",
   "name": "python",
   "nbconvert_exporter": "python",
   "pygments_lexer": "ipython3",
   "version": "3.9.12"
  }
 },
 "nbformat": 4,
 "nbformat_minor": 5
}
